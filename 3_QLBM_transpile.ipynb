{
 "cells": [
  {
   "cell_type": "code",
   "execution_count": null,
   "metadata": {},
   "outputs": [],
   "source": [
    "# Install a pip package in the current Jupyter kernel\n",
    "import sys\n",
    "!{sys.executable} -m pip install numpy\n",
    "!{sys.executable} -m pip install Qiskit\n",
    "!{sys.executable} -m pip install qiskit_ibm_runtime\n",
    "!{sys.executable} -m pip install matplotlib\n",
    "!{sys.executable} -m pip install pylatexenc\n",
    "!{sys.executable} -m pip install seaborn\n",
    "!{sys.executable} -m pip install qiskit_aer"
   ]
  },
  {
   "cell_type": "markdown",
   "metadata": {},
   "source": [
    "## Transpiling a Circuit\n",
    "\n",
    "The high-level gates used to implement quantum algorithms cannot always be directly applied on real hardware. Real quantum devices support only a limited set of native basis gates, which vary depending on the hardware. \n",
    "\n",
    "To execute a circuit on a specific device, it must be transpiled into an equivalent circuit using the native gates of the hardware.\n",
    "\n",
    "Fortunately, the Solovay-Kitaev theorem ensures that any quantum gate can be approximated using a finite set of single-qubit gates:\n",
    "\n",
    "$\n",
    "\\text{Solovay-Kitaev Theorem: A set of single-qubit gates can approximate any desired quantum gate with a short sequence of gates.}\n",
    "$\n"
   ]
  },
  {
   "cell_type": "code",
   "execution_count": null,
   "metadata": {},
   "outputs": [],
   "source": [
    "import numpy as np\n",
    "import matplotlib.pyplot as plt\n",
    "from qiskit import QuantumCircuit, QuantumRegister\n",
    "from qiskit import *\n",
    "from qiskit.primitives import StatevectorSampler\n",
    "from qiskit import transpile\n",
    "from qiskit_ibm_runtime import QiskitRuntimeService"
   ]
  },
  {
   "cell_type": "markdown",
   "metadata": {},
   "source": [
    "Initializing some variables"
   ]
  },
  {
   "cell_type": "code",
   "execution_count": null,
   "metadata": {},
   "outputs": [],
   "source": [
    "Number_of_qubits = 5\n",
    "Total_number_of_cells = 2**Number_of_qubits\n",
    "density = np.linspace(0, 1, Total_number_of_cells)\n",
    "density_normalized = density / np.linalg.norm(density)"
   ]
  },
  {
   "cell_type": "markdown",
   "metadata": {},
   "source": [
    "Initialize a quantum circuit and the initialization method."
   ]
  },
  {
   "cell_type": "code",
   "execution_count": null,
   "metadata": {},
   "outputs": [],
   "source": [
    "qx = QuantumRegister(Number_of_qubits,'qx')\n",
    "qc = QuantumCircuit(qx)\n",
    "qc.initialize(density_normalized, qx)"
   ]
  },
  {
   "cell_type": "markdown",
   "metadata": {},
   "source": [
    "The $\\texttt{transpile}$ function rewrites a quantum circuit to match the native gate set of the target hardware while optimizing its structure. For example:\n",
    "\n",
    "$\n",
    "\\texttt{transpiled\\_circuit = transpile(qc, basis\\_gates=['rz', 'sx', 'x', 'cx'], optimization\\_level=3)}.\n",
    "$\n",
    "\n",
    "This converts the circuit $\\texttt{qc}$ into an equivalent form using the specified basis gates ($\\texttt{rz}$, $\\texttt{sx}$, $\\texttt{x}$, and $\\texttt{cx}$) and applies optimizations to reduce gate count and circuit depth. The $\\texttt{optimization\\_level=3}$ ensures maximum optimization, improving execution fidelity on noisy quantum devices.\n"
   ]
  },
  {
   "cell_type": "code",
   "execution_count": null,
   "metadata": {},
   "outputs": [],
   "source": [
    "transpiled_circuit = transpile(qc, basis_gates=['rz', 'sx', 'x', 'cx'], optimization_level=3)"
   ]
  },
  {
   "cell_type": "code",
   "execution_count": null,
   "metadata": {},
   "outputs": [],
   "source": [
    "qc.draw(output='mpl')"
   ]
  },
  {
   "cell_type": "code",
   "execution_count": null,
   "metadata": {},
   "outputs": [],
   "source": [
    "transpiled_circuit.draw(output='mpl')"
   ]
  },
  {
   "cell_type": "markdown",
   "metadata": {},
   "source": [
    "To analyze the transpiled circuit:\n",
    "- $\\texttt{transpiled\\_circuit.count\\_ops()}$ returns the number of each gate type.\n",
    "- The total number of gates is computed as:\n",
    "  \n",
    "  $\n",
    "  \\texttt{total\\_gates = sum(gate\\_counts.values())}.\n",
    "  $\n",
    "\n",
    "- The circuit depth, indicating the longest sequence of operations, is obtained using:\n",
    "  \n",
    "  $\n",
    "  \\texttt{transpiled\\_circuit.depth()}.\n",
    "  $\n",
    "  \n",
    "These metrics summarize the circuit's complexity and resource usage.\n"
   ]
  },
  {
   "cell_type": "code",
   "execution_count": null,
   "metadata": {},
   "outputs": [],
   "source": [
    "gate_counts = transpiled_circuit.count_ops()\n",
    "print(\"Gate counts:\", gate_counts)\n",
    "total_gates = sum(gate_counts.values())\n",
    "print(\"Total number of gates:\", total_gates)\n",
    "circuit_depth = transpiled_circuit.depth()\n",
    "print(\"Circuit depth:\", circuit_depth)\n"
   ]
  },
  {
   "cell_type": "markdown",
   "metadata": {},
   "source": [
    "Now compute Total number of gates and the circuit depth for a varying number of qubits."
   ]
  },
  {
   "cell_type": "code",
   "execution_count": null,
   "metadata": {},
   "outputs": [],
   "source": [
    "#Range from 1 to 12 qubits\n",
    "Number_of_qubits_for_loop = 12\n",
    "total_gates = np.zeros(Number_of_qubits_for_loop)\n",
    "circuit_depth = np.zeros(Number_of_qubits_for_loop)\n",
    "\n",
    "\n",
    "for qubit_number in range(1,Number_of_qubits_for_loop):\n",
    "    Total_number_of_cells = 2**qubit_number\n",
    "    density = np.random.rand(Total_number_of_cells)\n",
    "    #density = np.linspace(0, 1, Total_number_of_cells)\n",
    "    density_normalized = density / np.linalg.norm(density)\n",
    "    qx = QuantumRegister(qubit_number,'qx')\n",
    "    qc = QuantumCircuit(qx)\n",
    "    qc.initialize(density_normalized, qx)\n",
    "    transpiled_circuit = transpile(qc, basis_gates=['rz', 'sx', 'x', 'cx'], optimization_level=3)\n",
    "\n",
    "    gate_counts = transpiled_circuit.count_ops()\n",
    "\n",
    "    total_gates[qubit_number] = sum(gate_counts.values())\n",
    "    circuit_depth[qubit_number] = transpiled_circuit.depth()\n"
   ]
  },
  {
   "cell_type": "markdown",
   "metadata": {},
   "source": [
    "Note: The y-axis is scaled logarithmically."
   ]
  },
  {
   "cell_type": "code",
   "execution_count": null,
   "metadata": {},
   "outputs": [],
   "source": [
    "fig, (ax1, ax2) = plt.subplots(1, 2, figsize=(20, 8))\n",
    "\n",
    "ax1.plot(total_gates, marker=\"o\", linestyle=\"None\")\n",
    "ax1.set_yscale('log')\n",
    "ax1.set_xlabel(\"qubit number\")\n",
    "ax1.set_ylabel(\"total gates\")\n",
    "ax1.set_title(\"Transpiled circuit gate count\")\n",
    "ax1.grid(True)\n",
    "\n",
    "ax2.plot(circuit_depth, marker=\"o\", linestyle=\"None\")\n",
    "ax2.set_yscale('log')\n",
    "ax2.set_xlabel(\"qubit number\")\n",
    "ax2.set_ylabel(\"circuit depth\")\n",
    "ax2.set_title(\"Transpiled circuit depth\")\n",
    "ax2.grid(True)\n",
    "\n",
    "plt.show()"
   ]
  },
  {
   "cell_type": "markdown",
   "metadata": {},
   "source": [
    "Now we do the same for the streaming circuit implemented in the second notebook.\n",
    "We compare the computational complexity of the two approaches for varying qubit number."
   ]
  },
  {
   "cell_type": "code",
   "execution_count": null,
   "metadata": {},
   "outputs": [],
   "source": [
    "from qiskit.circuit.library import QFT\n",
    "from numpy import pi\n",
    "#Range from 1 to 6 qubits\n",
    "Number_of_qubits_for_loop = 12\n",
    "total_gates_cx = np.zeros(Number_of_qubits_for_loop)\n",
    "circuit_depth_cx = np.zeros(Number_of_qubits_for_loop)\n",
    "total_gates_qft = np.zeros(Number_of_qubits_for_loop)\n",
    "circuit_depth_qft = np.zeros(Number_of_qubits_for_loop)\n",
    "\n",
    "for qubit_number in range(1,Number_of_qubits_for_loop):\n",
    "    qx = QuantumRegister(qubit_number,'qx')\n",
    "    qc = QuantumCircuit(qx)\n",
    "    qc.x(0)\n",
    "    for ii in range(1,qubit_number):\n",
    "        qc.mcx(qx[:ii],qx[ii])\n",
    "    transpiled_circuit = transpile(qc, basis_gates=['rz', 'sx', 'x', 'cx'], optimization_level=3)\n",
    "\n",
    "    gate_counts = transpiled_circuit.count_ops()\n",
    "\n",
    "    total_gates_cx[qubit_number] = sum(gate_counts.values())\n",
    "    circuit_depth_cx[qubit_number] = transpiled_circuit.depth()\n",
    "\n",
    "\n",
    "    #QFT circuit\n",
    "    qx = QuantumRegister(qubit_number,'qx')\n",
    "    qc = QuantumCircuit(qx)\n",
    "    qft_circuit = QFT(qubit_number, do_swaps=True, inverse=False, approximation_degree=0)\n",
    "    qft_inverse_circuit = QFT(qubit_number, do_swaps=True, inverse=True, approximation_degree=0)\n",
    "\n",
    "    #Positive streaming\n",
    "    qc.append(qft_circuit, qx[:])\n",
    "    for ii in range(len(qx)):\n",
    "        theta = 2**(ii+1)*pi/(2**(len(qx)))\n",
    "        qc.p(theta,qx[ii])\n",
    "    qc.append(qft_inverse_circuit, qx[:])\n",
    "\n",
    "\n",
    "    transpiled_circuit = transpile(qc, basis_gates=['rz', 'sx', 'x', 'cx'], optimization_level=3)\n",
    "\n",
    "    gate_counts = transpiled_circuit.count_ops()\n",
    "\n",
    "    total_gates_qft[qubit_number] = sum(gate_counts.values())\n",
    "    circuit_depth_qft[qubit_number] = transpiled_circuit.depth()"
   ]
  },
  {
   "cell_type": "code",
   "execution_count": null,
   "metadata": {},
   "outputs": [],
   "source": [
    "fig, (ax1, ax2) = plt.subplots(1, 2, figsize=(20, 8))\n",
    "\n",
    "ax1.plot(total_gates_cx, marker=\"o\", linestyle=\"None\",label='canonical shift')\n",
    "ax1.plot(total_gates_qft, marker=\"o\", linestyle=\"None\",label='qft shift')\n",
    "ax1.legend()\n",
    "ax1.set_yscale('log')\n",
    "ax1.set_xlabel(\"qubit number\")\n",
    "ax1.set_ylabel(\"total gates\")\n",
    "ax1.set_title(\"Transpiled circuit gate count\")\n",
    "ax1.grid(True)\n",
    "\n",
    "ax2.plot(circuit_depth_cx, marker=\"o\", linestyle=\"None\",label='canonical shift')\n",
    "ax2.plot(circuit_depth_qft, marker=\"o\", linestyle=\"None\",label='qft shift')\n",
    "ax2.legend()\n",
    "ax2.set_yscale('log')\n",
    "ax2.set_xlabel(\"qubit number\")\n",
    "ax2.set_ylabel(\"circuit depth\")\n",
    "ax2.set_title(\"Transpiled circuit depth\")\n",
    "ax2.grid(True)\n",
    "\n",
    "plt.show()"
   ]
  },
  {
   "cell_type": "markdown",
   "metadata": {},
   "source": [
    "## Connectivity of qubits\n",
    "Real quantum hardware is constrained by both basis gates and qubit connectivity. Unlike previously assumed fully connected quantum computer, real devices, such as IBM's Kawasaki with 127 qubits, have limited connectivity. During transpilation, the circuit must account for these constraints to ensure operations comply with the hardware's coupling map.\n"
   ]
  },
  {
   "cell_type": "code",
   "execution_count": null,
   "metadata": {},
   "outputs": [],
   "source": [
    "from qiskit_ibm_runtime.fake_provider import FakeKawasaki\n",
    "from qiskit.visualization import plot_gate_map\n",
    "backend = FakeKawasaki()\n",
    "print(\n",
    "    f\"Name: {backend.name}\\n\"\n",
    "    f\"Version: {backend.version}\\n\"\n",
    "    f\"No. of qubits: {backend.num_qubits}\\n\"\n",
    ")"
   ]
  },
  {
   "cell_type": "code",
   "execution_count": null,
   "metadata": {},
   "outputs": [],
   "source": [
    "# #graphviz needs to be installed on the computer\n",
    "# plot_gate_map(\n",
    "#     backend,\n",
    "#     plot_directed=True,\n",
    "# )"
   ]
  },
  {
   "cell_type": "markdown",
   "metadata": {},
   "source": [
    "Here we apply the canonical and qft streaming operator on two different quantum circuits and consider in the transpilation the qubit connectivity and the native gate set.\n",
    "In the loop we vary the number of qubits on which the operators are applied to."
   ]
  },
  {
   "cell_type": "code",
   "execution_count": null,
   "metadata": {},
   "outputs": [],
   "source": [
    "from qiskit.circuit.library import QFT\n",
    "from numpy import pi\n",
    "#Range from 1 to 6 qubits\n",
    "Number_of_qubits_for_loop = 12\n",
    "total_gates_cx_real_hardware = np.zeros(Number_of_qubits_for_loop)\n",
    "circuit_depth_cx_real_hardware = np.zeros(Number_of_qubits_for_loop)\n",
    "total_gates_qft_real_hardware = np.zeros(Number_of_qubits_for_loop)\n",
    "circuit_depth_qft_real_hardware = np.zeros(Number_of_qubits_for_loop)\n",
    "\n",
    "for qubit_number in range(1,Number_of_qubits_for_loop):\n",
    "    qx = QuantumRegister(qubit_number,'qx')\n",
    "    qc = QuantumCircuit(qx)\n",
    "    qc.x(0)\n",
    "    for ii in range(1,qubit_number):\n",
    "        qc.mcx(qx[:ii],qx[ii])\n",
    "    transpiled_circuit = transpile(qc, backend=backend, optimization_level=3)\n",
    "\n",
    "    gate_counts = transpiled_circuit.count_ops()\n",
    "\n",
    "    total_gates_cx_real_hardware[qubit_number] = sum(gate_counts.values())\n",
    "    circuit_depth_cx_real_hardware[qubit_number] = transpiled_circuit.depth()\n",
    "\n",
    "\n",
    "    #QFT circuit\n",
    "    qx = QuantumRegister(qubit_number,'qx')\n",
    "    qc = QuantumCircuit(qx)\n",
    "    qft_circuit = QFT(qubit_number, do_swaps=True, inverse=False, approximation_degree=0)\n",
    "    qft_inverse_circuit = QFT(qubit_number, do_swaps=True, inverse=True, approximation_degree=0)\n",
    "\n",
    "    #Positive streaming\n",
    "    qc.append(qft_circuit, qx[:])\n",
    "    for ii in range(len(qx)):\n",
    "        theta = 2**(ii+1)*pi/(2**(len(qx)))\n",
    "        qc.p(theta,qx[ii])\n",
    "    qc.append(qft_inverse_circuit, qx[:])\n",
    "\n",
    "\n",
    "    transpiled_circuit = transpile(qc, backend=backend, optimization_level=3)\n",
    "\n",
    "    gate_counts = transpiled_circuit.count_ops()\n",
    "\n",
    "    total_gates_qft_real_hardware[qubit_number] = sum(gate_counts.values())\n",
    "    circuit_depth_qft_real_hardware[qubit_number] = transpiled_circuit.depth()"
   ]
  },
  {
   "cell_type": "markdown",
   "metadata": {},
   "source": [
    "We plot the total number of gates and the circuit depth for both streaming operators. The results are compared for two cases:\n",
    "- **Blue markers**: Transpilation considering qubit connectivity.\n",
    "- **Red markers**: Transpilation without considering qubit connectivity."
   ]
  },
  {
   "cell_type": "code",
   "execution_count": null,
   "metadata": {},
   "outputs": [],
   "source": [
    "fig, (ax1, ax2) = plt.subplots(1, 2, figsize=(20, 8))\n",
    "\n",
    "ax1.plot(total_gates_cx, marker=\"o\",color='red', linestyle=\"None\",label='canonical shift')\n",
    "ax1.plot(total_gates_cx_real_hardware,color='blue', marker=\"o\", linestyle=\"None\",label='canonical shift hardware')\n",
    "ax1.plot(total_gates_qft, marker=\"x\",color='red', linestyle=\"None\",label='qft shift')\n",
    "ax1.plot(total_gates_qft_real_hardware,color='blue', marker=\"x\", linestyle=\"None\",label='qft shift hardware')\n",
    "ax1.legend()\n",
    "ax1.set_yscale('log')\n",
    "ax1.set_xlabel(\"qubit number\")\n",
    "ax1.set_ylabel(\"total gates\")\n",
    "ax1.set_title(\"Transpiled circuit gate count\")\n",
    "ax1.grid(True)\n",
    "\n",
    "ax2.plot(circuit_depth_cx, color='red', marker=\"o\", linestyle=\"None\",label='canonical shift')\n",
    "ax2.plot(circuit_depth_cx_real_hardware, color='blue', marker=\"o\", linestyle=\"None\",label='canonical shift hardware')\n",
    "ax2.plot(circuit_depth_qft, color='red', marker=\"x\", linestyle=\"None\",label='qft shift')\n",
    "ax2.plot(circuit_depth_qft_real_hardware, color='blue' , marker=\"x\", linestyle=\"None\",label='qft shift hardware')\n",
    "ax2.legend()\n",
    "ax2.set_yscale('log')\n",
    "ax2.set_xlabel(\"qubit number\")\n",
    "ax2.set_ylabel(\"circuit depth\")\n",
    "ax2.set_title(\"Transpiled circuit depth\")\n",
    "ax2.grid(True)\n",
    "\n",
    "plt.show()"
   ]
  },
  {
   "cell_type": "code",
   "execution_count": null,
   "metadata": {},
   "outputs": [],
   "source": []
  }
 ],
 "metadata": {
  "kernelspec": {
   "display_name": "mep_workshop",
   "language": "python",
   "name": "python3"
  },
  "language_info": {
   "codemirror_mode": {
    "name": "ipython",
    "version": 3
   },
   "file_extension": ".py",
   "mimetype": "text/x-python",
   "name": "python",
   "nbconvert_exporter": "python",
   "pygments_lexer": "ipython3",
   "version": "3.13.2"
  }
 },
 "nbformat": 4,
 "nbformat_minor": 2
}
