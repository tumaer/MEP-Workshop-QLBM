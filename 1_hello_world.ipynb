{
 "cells": [
  {
   "cell_type": "code",
   "execution_count": null,
   "metadata": {},
   "outputs": [],
   "source": [
    "# Install a pip package in the current Jupyter kernel\n",
    "import sys\n",
    "!{sys.executable} -m pip install numpy\n",
    "!{sys.executable} -m pip install Qiskit\n",
    "!{sys.executable} -m pip install qiskit_ibm_runtime\n",
    "!{sys.executable} -m pip install matplotlib\n",
    "!{sys.executable} -m pip install pylatexenc\n",
    "!{sys.executable} -m pip install seaborn\n",
    "!{sys.executable} -m pip install qiskit_aer"
   ]
  },
  {
   "cell_type": "code",
   "execution_count": 7,
   "metadata": {},
   "outputs": [],
   "source": [
    "import numpy as np\n",
    "from qiskit import QuantumCircuit, QuantumRegister, ClassicalRegister\n",
    "from qiskit.visualization import plot_bloch_multivector\n",
    "from qiskit.quantum_info import Statevector\n",
    "from qiskit import *\n",
    "from qiskit.visualization import plot_histogram\n",
    "from qiskit.primitives import StatevectorSampler\n"
   ]
  },
  {
   "cell_type": "code",
   "execution_count": null,
   "metadata": {},
   "outputs": [],
   "source": [
    "#Some helper functions\n",
    "\n",
    "def PrintProbabilitiesAndAmplitudes(psi: Statevector)->None:\n",
    "    probs = psi.probabilities_dict()\n",
    "\n",
    "    state_dict = psi.to_dict()\n",
    "    cleaned_dict = {str(key): complex(value) for key, value in state_dict.items()}  \n",
    "    cleaned_probs = {str(key): float(value) for key, value in probs.items()} \n",
    "\n",
    "    print('Probabilities: {}'.format(cleaned_probs))\n",
    "    print('Amplitudes: {}'.format(cleaned_dict))"
   ]
  },
  {
   "cell_type": "markdown",
   "metadata": {},
   "source": [
    "## Basic Quantum Functionalities\n",
    "\n",
    "A quantum circuit in Qiskit is composed of a $\\texttt{QuantumRegister}$ and a $\\texttt{ClassicalRegister}$. These registers define the number of qubits and classical bits used in the circuit, respectively.\n",
    "\n",
    "1. **Quantum Register**:\n",
    "   A $\\texttt{QuantumRegister}$ is initialized using:\n",
    "\n",
    "   $\n",
    "   \\texttt{qr = QuantumRegister(\\#numqubits, 'registername')}\n",
    "   $\n",
    "   This creates a quantum register with the specified number of qubits.\n",
    "\n",
    "2. **Classical Register**:\n",
    "   A $\\texttt{ClassicalRegister}$ is initialized using:\n",
    "   \n",
    "   $\n",
    "   \\texttt{cr = ClassicalRegister(\\#classicalbits, 'registername')}\n",
    "   $\n",
    "\n",
    "   This creates a classical register with the specified number of classical bits for storing measurement results.\n",
    "\n",
    "3. **Quantum Circuit**:\n",
    "   A $\\texttt{QuantumCircuit}$ is initialized by combining the quantum and classical registers:\n",
    "   \n",
    "   $\n",
    "   \\texttt{qc = QuantumCircuit(qr, cr)}\n",
    "   $\n",
    "\n",
    "This circuit can now be used to apply quantum gates and perform measurements."
   ]
  },
  {
   "cell_type": "code",
   "execution_count": null,
   "metadata": {},
   "outputs": [],
   "source": [
    "#Initialize here a QuantumRegister with one qubit and a ClassicalRegister with one bit\n",
    "#Then create a QuantumCircuit with these registers\n",
    "\n",
    "#### CODE HERE\n",
    "qr = \n",
    "cr = \n",
    "qc = \n",
    "####"
   ]
  },
  {
   "cell_type": "markdown",
   "metadata": {},
   "source": [
    "## State vector\n",
    "\n",
    "By default, qubits in a quantum circuit are initialized in the $\\lvert 0 \\rangle$ state. This can be confirmed by computing the state vector of the circuit and visualizing it on the Bloch sphere.\n",
    "\n",
    "To compute the state vector, use:\n",
    "\n",
    "$\n",
    "\\texttt{Statevector(quantumcircuit)}\n",
    "$\n",
    "\n",
    "This retrieves the quantum state of the circuit as a vector representation. For a single qubit initialized to $\\lvert 0 \\rangle$, the state vector will be:\n",
    "\n",
    "$\n",
    "\\psi = \\begin{bmatrix} 1 \\\\ 0 \\end{bmatrix},\n",
    "$\n",
    "\n",
    "indicating that the qubit is entirely in the $\\lvert 0 \\rangle$ state.\n",
    "\n",
    "The Bloch sphere visualization provides a geometric representation of this state. The $\\lvert 0 \\rangle$ state corresponds to the north pole of the sphere, with coordinates $(x, y, z) = (0, 0, 1)$.\n",
    "\n",
    "By plotting the Bloch sphere, you can verify that the qubit is correctly initialized to $\\lvert 0 \\rangle$ before performing further operations.\n"
   ]
  },
  {
   "cell_type": "code",
   "execution_count": null,
   "metadata": {},
   "outputs": [],
   "source": [
    "# The Statevector class allows us to create a quantum statevector from a quantum circuit.\n",
    "# This Statevector is computed analytically and can therefore output the probability amplitudes \n",
    "# The probability amplitudes are in a real world application not measureable\n",
    "\n",
    "#### CODE HERE\n",
    "Psi = \n",
    "####\n",
    "\n",
    "PrintProbabilitiesAndAmplitudes(Psi)"
   ]
  },
  {
   "cell_type": "markdown",
   "metadata": {},
   "source": [
    "## Bloch Sphere\n",
    "\n",
    "The Bloch sphere is a geometric representation of the state of a single qubit, where any pure quantum state can be visualized as a point on the surface of the sphere. The axes $x$, $y$, and $z$ correspond to the expectation values of the Pauli matrices $\\sigma_x$, $\\sigma_y$, and $\\sigma_z$, which represent quantum measurements in different bases. The north and south poles of the sphere ($z = +1$ and $z = -1$) correspond to the classical states $\\lvert 0 \\rangle$ and $\\lvert 1 \\rangle$, while points on the equator represent equal superpositions of these states with varying phases. This visualization is particularly useful for understanding qubit operations, as rotations on the Bloch sphere correspond to quantum gates.\n",
    "\n",
    "\n",
    "To print the bloch sphere use plot_bloch_multivector(qc, title='Bloch Sphere')"
   ]
  },
  {
   "cell_type": "code",
   "execution_count": null,
   "metadata": {},
   "outputs": [],
   "source": [
    "plot_bloch_multivector(qc, title='Bloch Sphere')"
   ]
  },
  {
   "cell_type": "markdown",
   "metadata": {},
   "source": [
    "## X-Gate\n",
    "\n",
    "The $X$-Gate, also known as the Pauli-X gate, performs a rotation of the qubit's state vector by $\\pi$ radians around the x-axis of the Bloch sphere. It acts as a quantum equivalent of a classical bit-flip, swapping the states $\\lvert 0 \\rangle$ and $\\lvert 1 \\rangle$:\n",
    "\n",
    "$\n",
    "X\\lvert 0 \\rangle = \\lvert 1 \\rangle, \\quad X\\lvert 1 \\rangle = \\lvert 0 \\rangle.\n",
    "$\n",
    "\n",
    "The matrix representation of the $X$-Gate is:\n",
    "\n",
    "$\n",
    "X = \n",
    "\\begin{bmatrix}\n",
    "0 & 1 \\\\\n",
    "1 & 0\n",
    "\\end{bmatrix}.\n",
    "$\n",
    "\n",
    "To apply an $X$-Gate in Qiskit:\n",
    "```python\n",
    "qc.x(qubit_number)"
   ]
  },
  {
   "cell_type": "code",
   "execution_count": null,
   "metadata": {},
   "outputs": [],
   "source": [
    "# New quantum circuit\n",
    "qc = QuantumCircuit(qr,cr)\n",
    "\n",
    "#### CODE HERE\n",
    "\n",
    "####\n",
    "\n",
    "Psi = Statevector(qc)\n",
    "\n",
    "PrintProbabilitiesAndAmplitudes(Psi)\n",
    "plot_bloch_multivector(Psi, title='Bloch Sphere')"
   ]
  },
  {
   "cell_type": "markdown",
   "metadata": {},
   "source": [
    "## Quantum Circuit\n",
    "\n",
    "It is possible to visualize the quantum circuit, which provides a graphical representation of your quantum algorithm. A quantum circuit consists of qubits represented as horizontal lines and quantum gates depicted as symbols applied to these lines. This visualization helps to understand the sequence of operations performed on qubits and the overall structure of the algorithm. In Qiskit, you can easily generate and display a quantum circuit diagram using built-in functions.\n"
   ]
  },
  {
   "cell_type": "code",
   "execution_count": null,
   "metadata": {},
   "outputs": [],
   "source": [
    "qc.draw(output='mpl')"
   ]
  },
  {
   "cell_type": "markdown",
   "metadata": {},
   "source": [
    "## Hadamard Gate\n",
    "\n",
    "Now apply a Hadamard Gate to the qubit. The Hadamard Gate is a fundamental quantum gate that creates a uniform superposition of states. It transforms the qubit state such that the probabilities of measuring $\\lvert 0 \\rangle$ and $\\lvert 1 \\rangle$ become equal.\n",
    "\n",
    "After applying the Hadamard Gate, compute the new state vector, print the probabilities and amplitudes, and visualize the Bloch sphere.\n",
    "\n",
    "The $H$ Hadamard Gate performs the following transformations:\n",
    "\n",
    "$\n",
    "H\\lvert 0 \\rangle = \\frac{1}{\\sqrt{2}}\\left(\\lvert 0 \\rangle + \\lvert 1 \\rangle\\right), \\quad\n",
    "H\\lvert 1 \\rangle = \\frac{1}{\\sqrt{2}}\\left(\\lvert 0 \\rangle - \\lvert 1 \\rangle\\right).\n",
    "$\n",
    "\n",
    "Its matrix representation is:\n",
    "\n",
    "$\n",
    "H = \\frac{1}{\\sqrt{2}}\n",
    "\\begin{bmatrix}\n",
    "1 & 1 \\\\\n",
    "1 & -1\n",
    "\\end{bmatrix}.\n",
    "$\n",
    "\n",
    "To apply a Hadamard Gate in Qiskit:\n",
    "```python\n",
    "qc.h(qubit_number)"
   ]
  },
  {
   "cell_type": "code",
   "execution_count": null,
   "metadata": {},
   "outputs": [],
   "source": [
    "# New quantum circuit\n",
    "qc = QuantumCircuit(qr,cr)\n",
    "\n",
    "#### CODE HERE\n",
    "\n",
    "####\n",
    "\n",
    "\n",
    "Psi = Statevector(qc)\n",
    "PrintProbabilitiesAndAmplitudes(Psi)\n",
    "plot_bloch_multivector(qc, title='Bloch Sphere')"
   ]
  },
  {
   "cell_type": "markdown",
   "metadata": {},
   "source": [
    "## Measurement\n",
    "\n",
    "To extract classical information from a quantum system, we must repeat our experiment multiple times to gather statistical data. Quantum measurement collapses the qubit's wavefunction into a definite state, either $\\lvert 0 \\rangle$ or $\\lvert 1 \\rangle$, based on the probabilities encoded in the wavefunction prior to measurement. This collapse is irreversible, and repeated measurements yield results consistent with the probabilities established by the quantum state.\n",
    "\n",
    "First, apply a measurement to the qubit:\n",
    "```python\n",
    "qc.measure(quantumregister,classicalregister)\n",
    "```\n",
    "\n",
    "The measurement process allows us to retrieve classical information from the quantum system, but it also disturbs the system and destroys its superposition state. By analyzing multiple measurements, we can infer statistical properties of the original quantum state.\n"
   ]
  },
  {
   "cell_type": "code",
   "execution_count": null,
   "metadata": {},
   "outputs": [],
   "source": [
    "#### CODE HERE\n",
    "\n",
    "#### \n",
    "\n",
    "\n",
    "qc.draw(output='mpl')"
   ]
  },
  {
   "cell_type": "markdown",
   "metadata": {},
   "source": [
    "The simulation uses the $\\texttt{StatevectorSampler}$ to compute measurement statistics from the quantum circuit. The $\\texttt{StatevectorSampler}$ assumes ideal conditions, meaning it works with the exact state vector of the quantum system without introducing noise or imperfections. \n",
    "\n",
    "The number of shots specifies how many times the circuit is simulated to approximate measurement probabilities. A higher number of shots improves the accuracy of the resulting statistics by providing a better approximation of the true probabilities encoded in the quantum state.\n",
    "\n",
    "The output of the simulation is a dictionary of measurement outcomes, where each key represents a bitstring (e.g., $\\lvert 0 \\rangle$ or $\\lvert 1 \\rangle$), and the associated value indicates how often that outcome was observed. This histogram of results helps analyze the behavior of the quantum circuit and understand its probabilistic nature.\n"
   ]
  },
  {
   "cell_type": "code",
   "execution_count": null,
   "metadata": {},
   "outputs": [],
   "source": [
    "sampler = StatevectorSampler()\n",
    "\n",
    "shots = 1000000\n",
    "\n",
    "job = sampler.run([qc], shots=shots)\n",
    "result = job.result()\n",
    "data = result[0].data\n",
    "counts = data.c.get_counts()"
   ]
  },
  {
   "cell_type": "markdown",
   "metadata": {},
   "source": [
    "The function $\\texttt{plot\\_histogram(counts)}$ is used to visualize the measurement outcomes of a quantum circuit as a histogram. The $\\texttt{counts}$ dictionary contains the results of the simulation, where each key represents a measured bitstring (e.g., $\\lvert 0 \\rangle$ or $\\lvert 1 \\rangle$), and the corresponding value indicates the frequency of that outcome.\n",
    "\n",
    "The histogram provides an intuitive way to interpret the probabilities of different measurement results. For example, in a superposition state, the histogram may show equal probabilities for $\\lvert 0 \\rangle$ and $\\lvert 1 \\rangle$, while in a collapsed state, only one outcome will dominate. This visualization is particularly useful for analyzing how quantum gates and operations affect the qubit's state.\n"
   ]
  },
  {
   "cell_type": "code",
   "execution_count": null,
   "metadata": {},
   "outputs": [],
   "source": [
    "from qiskit.visualization import plot_histogram\n",
    "\n",
    "# Use the plot_histogram function to visualize the counts\n",
    "plot_histogram(counts)"
   ]
  },
  {
   "cell_type": "markdown",
   "metadata": {},
   "source": [
    "The probabilities of measuring each quantum state are calculated from the measurement results stored in the $\\texttt{counts}$ dictionary. The keys in $\\texttt{counts}$ represent the possible outcomes (e.g., $\\lvert 0 \\rangle$ and $\\lvert 1 \\rangle$), while the values indicate the frequency of each outcome after running the circuit multiple times.\n",
    "\n",
    "To compute the probabilities, the frequency of each outcome is divided by the total number of shots (simulations). For example:\n",
    "\n",
    "$\n",
    "p_0 = \\frac{\\text{counts['0']}}{\\text{shots}}, \\quad p_1 = \\frac{\\text{counts['1']}}{\\text{shots}}\n",
    "$\n",
    "\n",
    "These probabilities represent how likely it is to measure $\\lvert 0 \\rangle$ or $\\lvert 1 \\rangle$ based on the quantum state of the system. "
   ]
  },
  {
   "cell_type": "code",
   "execution_count": null,
   "metadata": {},
   "outputs": [],
   "source": [
    "#### CODE HERE\n",
    "p0 = \n",
    "p1 = \n",
    "#####\n",
    "print('Probability measuring state 0: {}'.format(p0))\n",
    "print('Probability measuring state 1: {}'.format(p1))"
   ]
  },
  {
   "cell_type": "markdown",
   "metadata": {},
   "source": [
    "## RY Gate\n",
    "\n",
    "The $R_y(\\theta)$ gate, also known as the Rotation-Y gate, performs a rotation of a single qubit's state around the y-axis of the Bloch sphere by an angle $\\theta$. This gate is particularly useful for creating superposition states and for parameterized quantum circuits.\n",
    "\n",
    "The action of the $R_y(\\theta)$ gate on the computational basis states is given by:\n",
    "\n",
    "$\n",
    "R_y(\\theta)\\lvert 0 \\rangle = \\cos\\left(\\frac{\\theta}{2}\\right)\\lvert 0 \\rangle + \\sin\\left(\\frac{\\theta}{2}\\right)\\lvert 1 \\rangle,\n",
    "$\n",
    "\n",
    "$\n",
    "R_y(\\theta)\\lvert 1 \\rangle = -\\sin\\left(\\frac{\\theta}{2}\\right)\\lvert 0 \\rangle + \\cos\\left(\\frac{\\theta}{2}\\right)\\lvert 1 \\rangle.\n",
    "$\n",
    "\n",
    "Its matrix representation is:\n",
    "\n",
    "$\n",
    "R_y(\\theta) =\n",
    "\\begin{bmatrix}\n",
    "\\cos\\left(\\frac{\\theta}{2}\\right) & -\\sin\\left(\\frac{\\theta}{2}\\right) \\\\\n",
    "\\sin\\left(\\frac{\\theta}{2}\\right) & \\cos\\left(\\frac{\\theta}{2}\\right)\n",
    "\\end{bmatrix}.\n",
    "$\n",
    "\n",
    "Rotation gates are implemented by specifying the type of gate, the rotation angle, and the target qubit. For example, in Qiskit, you can apply an $R_y$ gate as follows:\n",
    "```python\n",
    "qc.ry(rotation_angle,qubit_number)"
   ]
  },
  {
   "cell_type": "code",
   "execution_count": null,
   "metadata": {},
   "outputs": [],
   "source": [
    "from numpy import pi\n",
    "#New quantum circuit\n",
    "qc = QuantumCircuit(qr,cr)\n",
    "rotation_angle = pi/4\n",
    "\n",
    "#### CODE HERE\n",
    "\n",
    "####\n",
    "\n",
    "qc.draw(output='mpl')\n"
   ]
  },
  {
   "cell_type": "code",
   "execution_count": null,
   "metadata": {},
   "outputs": [],
   "source": [
    "#Visualize the state uisng the Bloch sphere\n",
    "plot_bloch_multivector(qc, title='Bloch Sphere')"
   ]
  },
  {
   "cell_type": "markdown",
   "metadata": {},
   "source": [
    "Again sample the state and generate some statistics of the state vector.\n",
    "Plot the results using a histogram."
   ]
  },
  {
   "cell_type": "code",
   "execution_count": null,
   "metadata": {},
   "outputs": [],
   "source": [
    "qc.measure(qr,cr)\n",
    "\n",
    "sampler = StatevectorSampler()\n",
    "\n",
    "shots = 10000\n",
    "\n",
    "job = sampler.run([qc], shots=shots)\n",
    "result = job.result()\n",
    "data = result[0].data\n",
    "counts = data.c.get_counts()\n",
    "plot_histogram(counts)"
   ]
  },
  {
   "cell_type": "markdown",
   "metadata": {},
   "source": [
    "## CNOT Gate\n",
    "\n",
    "The Controlled-NOT (CNOT) gate is a two-qubit quantum gate that operates on a control qubit and a target qubit. The state of the control qubit remains unchanged, while the target qubit is flipped (i.e., a NOT operation is applied) if and only if the control qubit is in the state $\\lvert 1 \\rangle$. If the control qubit is in the state $\\lvert 0 \\rangle$, no change is made to the target qubit.\n",
    "\n",
    "The action of the CNOT gate on computational basis states is described as:\n",
    "\n",
    "$\n",
    "CNOT\\lvert 00 \\rangle = \\lvert 00 \\rangle, \\quad\n",
    "CNOT\\lvert 01 \\rangle = \\lvert 01 \\rangle,\n",
    "$\n",
    "\n",
    "$\n",
    "CNOT\\lvert 10 \\rangle = \\lvert 11 \\rangle, \\quad\n",
    "CNOT\\lvert 11 \\rangle = \\lvert 10 \\rangle.\n",
    "$\n",
    "\n",
    "The matrix representation of the CNOT gate is:\n",
    "\n",
    "$\n",
    "CNOT =\n",
    "\\begin{bmatrix}\n",
    "1 & 0 & 0 & 0 \\\\\n",
    "0 & 1 & 0 & 0 \\\\\n",
    "0 & 0 & 0 & 1 \\\\\n",
    "0 & 0 & 1 & 0\n",
    "\\end{bmatrix}.\n",
    "$\n",
    "\n",
    "In a quantum circuit, the CNOT gate requires two qubits: one as the control and one as the target. For example, in Qiskit, you can apply a CNOT gate as follows:\n",
    "```python\n",
    "qc.cx(control_qubit,target_qubit)"
   ]
  },
  {
   "cell_type": "code",
   "execution_count": null,
   "metadata": {},
   "outputs": [],
   "source": [
    "qr = QuantumRegister(2, 'q')\n",
    "cr = ClassicalRegister(2, 'c')\n",
    "qc = QuantumCircuit(qr,cr)\n",
    "\n",
    "#### CODE HERE\n",
    "\n",
    "####\n",
    "\n",
    "qc.draw(output='mpl')\n"
   ]
  },
  {
   "cell_type": "markdown",
   "metadata": {},
   "source": [
    "## Bell State\n",
    "\n",
    "Now create a new quantum circuit with two qubits and two classical registers. A Bell state is a maximally entangled two-qubit state that can be generated using one Hadamard gate and one CNOT gate. After preparing the Bell state, measure both qubits to extract statistics and analyze the quantum system.\n",
    "\n",
    "The Bell state $\\lvert \\Psi \\rangle$ is defined as:\n",
    "\n",
    "$\n",
    "\\lvert \\Psi \\rangle = \\frac{1}{\\sqrt{2}} \\left( \\lvert 00 \\rangle + \\lvert 11 \\rangle \\right).\n",
    "$\n",
    "\n",
    "To create this state:\n",
    "1. Apply a Hadamard gate to the first qubit to place it in a superposition:\n",
    "\n",
    "$\n",
    "H\\lvert 0 \\rangle = \\frac{1}{\\sqrt{2}} \\left( \\lvert 0 \\rangle + \\lvert 1 \\rangle \\right).\n",
    "$\n",
    "\n",
    "2. Apply a CNOT gate with the first qubit as the control and the second qubit as the target. This entangles the two qubits, resulting in the Bell state:\n",
    "\n",
    "$\n",
    "CNOT\\left(\\frac{1}{\\sqrt{2}} (\\lvert 0 \\rangle + \\lvert 1 \\rangle) \\otimes \\lvert 0 \\rangle\\right) = \n",
    "\\frac{1}{\\sqrt{2}} (\\lvert 00 \\rangle + \\lvert 11 \\rangle).\n",
    "$\n",
    "\n",
    "This entangled state demonstrates quantum correlations between the two qubits, meaning their measurement outcomes are perfectly correlated. Measuring both qubits will reveal these correlations, providing insight into the nature of quantum entanglement.\n"
   ]
  },
  {
   "cell_type": "markdown",
   "metadata": {},
   "source": []
  },
  {
   "cell_type": "code",
   "execution_count": null,
   "metadata": {},
   "outputs": [],
   "source": [
    "qr = QuantumRegister(2, 'q')\n",
    "cr = ClassicalRegister(2, 'c')\n",
    "qc = QuantumCircuit(qr,cr)\n",
    "\n",
    "#### CODE HERE\n",
    "\n",
    "\n",
    "####\n",
    "\n",
    "qc.draw(output='mpl')"
   ]
  },
  {
   "cell_type": "markdown",
   "metadata": {},
   "source": [
    "Apply a measurement on the circuit."
   ]
  },
  {
   "cell_type": "code",
   "execution_count": null,
   "metadata": {},
   "outputs": [],
   "source": [
    "qc.measure(qr,cr)"
   ]
  },
  {
   "cell_type": "markdown",
   "metadata": {},
   "source": [
    "To analyze the accuracy of a quantum state vector, one can vary the number of shots (repeated measurements) and observe how the results converge toward the theoretical probabilities.\n",
    "Initially, using a low number of shots provides a rough estimate of the measurement statistics due to higher statistical fluctuations. As the number of shots increases, the measurement outcomes become more precise, reducing random noise and better approximating the true probabilities of the quantum state. This process demonstrates how statistical accuracy improves with repeated sampling, reflecting the probabilistic nature of quantum mechanics.\n",
    "By gradually increasing the shot count, one can observe how the results stabilize and become more reliable."
   ]
  },
  {
   "cell_type": "code",
   "execution_count": null,
   "metadata": {},
   "outputs": [],
   "source": [
    "sampler = StatevectorSampler()\n",
    "\n",
    "#### CODE HERE\n",
    "shots = \n",
    "####\n",
    "\n",
    "job = sampler.run([qc], shots=shots)\n",
    "result = job.result()\n",
    "data = result[0].data\n",
    "counts = data.c.get_counts()\n",
    "p0 = counts['00']/shots\n",
    "p3 = counts['11']/shots\n",
    "print('Probability measuring state 00: {}'.format(p0))\n",
    "print('Probability measuring state 11: {}'.format(p3))\n",
    "plot_histogram(counts)"
   ]
  },
  {
   "cell_type": "markdown",
   "metadata": {},
   "source": [
    "Lets explore the bell state on a real quantum device!"
   ]
  },
  {
   "cell_type": "code",
   "execution_count": 3,
   "metadata": {},
   "outputs": [
    {
     "data": {
      "image/png": "[encoded data removed]",
      "text/plain": [
       "<Figure size 454.517x284.278 with 1 Axes>"
      ]
     },
     "execution_count": 3,
     "metadata": {},
     "output_type": "execute_result"
    }
   ],
   "source": [
    "#Create a new quantum circuit and a bell state, make a measurement and draw the circuit\n",
    "qr = QuantumRegister(2, 'q')\n",
    "cr = ClassicalRegister(2, 'c')\n",
    "qc = QuantumCircuit(qr,cr)\n",
    "\n",
    "qc.h(0)\n",
    "qc.cx(0,1)\n",
    "qc.measure(qr,cr)\n",
    "qc.draw(output='mpl')"
   ]
  },
  {
   "cell_type": "markdown",
   "metadata": {},
   "source": [
    "## Computation on real hardware\n",
    "\n",
    "To execute quantum circuits on real quantum hardware, you can use the Qiskit Runtime Service to access IBM Quantum backends. The following steps outline the process:\n",
    "\n",
    "1. **Initialize the Qiskit Runtime Service**:\n",
    "\n",
    "   $\n",
    "   \\texttt{service = QiskitRuntimeService()}\n",
    "   $\n",
    "\n",
    "   This initializes the service, allowing access to available backends.\n",
    "\n",
    "2. **Filter Backends**:\n",
    "   The $\\texttt{least\\_busy()}$ method selects the backend with the fewest pending jobs that meets specified criteria:\n",
    "   - $\\texttt{operational=True}$: Ensures the backend is currently operational.\n",
    "   - $\\texttt{min\\_num\\_qubits=qc.num\\_qubits}$: Filters backends with at least as many qubits as required by the circuit.\n",
    "   - $\\texttt{simulator=False}$: Excludes simulators to focus on real quantum devices.\n",
    "\n",
    "3. **Select Backend**:\n",
    "   \n",
    "   $\n",
    "   \\texttt{backend = service.least\\_busy(operational=True, min\\_num\\_qubits=qc.num\\_qubits, simulator=False)}\n",
    "   $\n",
    "   \n",
    "   This returns the least busy backend that satisfies all conditions, ensuring minimal wait time for job execution."
   ]
  },
  {
   "cell_type": "code",
   "execution_count": 4,
   "metadata": {},
   "outputs": [],
   "source": [
    "from qiskit_ibm_runtime import QiskitRuntimeService, Session, SamplerV2 as Sampler\n",
    "service = QiskitRuntimeService()\n",
    "backend = service.least_busy(\n",
    "    operational=True, min_num_qubits=qc.num_qubits, simulator=False\n",
    ")"
   ]
  },
  {
   "cell_type": "markdown",
   "metadata": {},
   "source": [
    "The code demonstrates how to optimize and transpile a quantum circuit using Qiskit's PassManager and a preset pass manager tailored to the selected backend. Transpilation is the process of transforming a quantum circuit into a form suitable for execution on a specific quantum device, taking into account hardware constraints like gate set, qubit connectivity, and noise characteristics.\n",
    "\n",
    "1. **Pass Manager**:\n",
    "   The $\\texttt{PassManager}$ object schedules and executes a sequence of transpiler passes, which are transformations or optimizations applied to the circuit. These passes can reduce gate count, improve circuit connectivity, or reexpress gates in terms of the basis set supported by the hardware.\n",
    "\n",
    "2. **Preset Pass Manager**:\n",
    "   The $\\texttt{generate\\_preset\\_pass\\_manager}$ function creates a pass manager optimized for the selected backend. The optimization level (e.g., $\\texttt{optimization\\_level=3}$) determines the aggressiveness of optimization, with higher levels performing more extensive transformations.\n",
    "\n",
    "3. **Instruction Set Architecture (ISA)**:\n",
    "   The $\\texttt{pm.run(qc)}$ method applies the pass manager to the input circuit ($\\texttt{qc}$), transforming it into a hardware-compatible form known as the instruction set architecture (ISA). This process ensures that the circuit adheres to the constraints of the backend."
   ]
  },
  {
   "cell_type": "code",
   "execution_count": 5,
   "metadata": {},
   "outputs": [
    {
     "data": {
      "image/png": "[encoded data removed]",
      "text/plain": [
       "<Figure size 1110.91x284.278 with 1 Axes>"
      ]
     },
     "execution_count": 5,
     "metadata": {},
     "output_type": "execute_result"
    }
   ],
   "source": [
    "from qiskit.transpiler import PassManager\n",
    "from qiskit.transpiler.preset_passmanagers import generate_preset_pass_manager\n",
    "\n",
    "pm = generate_preset_pass_manager(backend=backend, optimization_level=3)\n",
    "#isa = instruction set architecture\n",
    "qc_isa = pm.run(qc)\n",
    "qc_isa.draw(output=\"mpl\", idle_wires=False, style=\"iqp\")"
   ]
  },
  {
   "cell_type": "code",
   "execution_count": 8,
   "metadata": {},
   "outputs": [
    {
     "data": {
      "image/png": "[encoded data removed]",
      "text/plain": [
       "<Figure size 640x480 with 1 Axes>"
      ]
     },
     "execution_count": 8,
     "metadata": {},
     "output_type": "execute_result"
    }
   ],
   "source": [
    "sampler = Sampler(backend)\n",
    "job = sampler.run([qc_isa])\n",
    "result = job.result()\n",
    "data = result[0].data\n",
    "counts = data.c.get_counts()\n",
    "plot_histogram(counts)"
   ]
  },
  {
   "cell_type": "code",
   "execution_count": 9,
   "metadata": {},
   "outputs": [
    {
     "name": "stdout",
     "output_type": "stream",
     "text": [
      "Probabilities in %: {'11': 46.7529296875, '00': 49.8779296875, '10': 1.8798828125, '01': 1.4892578125}\n"
     ]
    }
   ],
   "source": [
    "total_shots = np.sum(list(counts.values()))\n",
    "probabilities = {state: float(count / total_shots*100) for state, count in counts.items()}\n",
    "print('Probabilities in %: {}'.format(probabilities))"
   ]
  }
 ],
 "metadata": {
  "kernelspec": {
   "display_name": "mep_workshop",
   "language": "python",
   "name": "python3"
  },
  "language_info": {
   "codemirror_mode": {
    "name": "ipython",
    "version": 3
   },
   "file_extension": ".py",
   "mimetype": "text/x-python",
   "name": "python",
   "nbconvert_exporter": "python",
   "pygments_lexer": "ipython3",
   "version": "3.13.2"
  }
 },
 "nbformat": 4,
 "nbformat_minor": 2
}
