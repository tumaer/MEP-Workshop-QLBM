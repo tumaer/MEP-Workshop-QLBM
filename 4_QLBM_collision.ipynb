{
 "cells": [
  {
   "cell_type": "code",
   "execution_count": null,
   "metadata": {},
   "outputs": [],
   "source": [
    "# Install a pip package in the current Jupyter kernel\n",
    "import sys\n",
    "!{sys.executable} -m pip install numpy\n",
    "!{sys.executable} -m pip install Qiskit\n",
    "!{sys.executable} -m pip install qiskit_ibm_runtime\n",
    "!{sys.executable} -m pip install matplotlib\n",
    "!{sys.executable} -m pip install pylatexenc\n",
    "!{sys.executable} -m pip install seaborn\n",
    "!{sys.executable} -m pip install qiskit_aer"
   ]
  },
  {
   "cell_type": "markdown",
   "metadata": {},
   "source": [
    "## Collision operator\n",
    "\n",
    "This notebook is based on following publications:\n",
    "```\n",
    "Budinski, Ljubomir. \"Quantum algorithm for the advection–diffusion equation simulated with the lattice Boltzmann method.\" Quantum Information Processing 20.2 (2021): 57.\n",
    "Wawrzyniak, David, et al. \"A quantum algorithm for the lattice-Boltzmann method advection-diffusion equation.\" Computer Physics Communications 306 (2025): 109373.\n",
    "```\n",
    "\n",
    "\n",
    "\n",
    "The linearized collision operator in the classical LBM for solving the 1D advection-diffusion equation can be written as a diagonal operator acting on the respective population\n",
    "\n",
    "$\n",
    "A_{i}=\\begin{bmatrix}\n",
    "    w_i\\left(1+\\frac{\\mathbf{c}_iu_0}{c_s^2}\\right) & 0 & 0\\\\ \n",
    "    0 &  \\ddots & 0 \\\\\n",
    "    0 & 0 & w_i\\left(1+\\frac{\\mathbf{c}_iu_{M-1}}{c_s^2}\\right)\n",
    "\\end{bmatrix}.\n",
    "$\n",
    "\n",
    "This operator is non-unitary and therefore it is not possible to construct a quantum operator straightforward.\n",
    "First we combine all $A_{i}$ operators into a larger operator $U_{non\\_unitary}$\n",
    "\n",
    "$\n",
    "U_{non\\_unitary}=\\begin{bmatrix}\n",
    "    A_0 & 0 & 0\\\\ \n",
    "    0 &  A_1 & 0 \\\\\n",
    "    0 & 0 & A_{2}\n",
    "\\end{bmatrix},\n",
    "$\n",
    "\n",
    "where we assume the density is initialized three times in a vector.\n",
    "Every non-unitary operator can be put in a larger unitary operator such that\n",
    "\n",
    "$\n",
    "U_{unitary}=\\begin{bmatrix}\n",
    "    U_{non\\_unitary} & * \\\\ \n",
    "    * &  *\n",
    "\\end{bmatrix},\n",
    "$\n",
    "\n",
    "holds.\n",
    "We can see that the non-unitary evolution is computed in a subspace of a larger vector.\n",
    "We can implement this operator using the Linear Combination of Unitaries algorithm.\n",
    "It is defined such that\n",
    "\n",
    "$\n",
    "U_{non\\_unitary}=1/2(U_1+U_2),\n",
    "$\n",
    "\n",
    "with $U_1 = U_{non\\_unitary}+i\\sqrt{I-U_{non\\_unitary}^2}$ and $U_2= U_{non\\_unitary}-i\\sqrt{I-U_{non\\_unitary}^2}$ being unitary matrices\n",
    "\n",
    "Although the sum is still the non-unitary operator, it is composed of a sum of unitary operators which are implementable."
   ]
  },
  {
   "cell_type": "markdown",
   "metadata": {},
   "source": [
    "## Collision Operator\n",
    "\n",
    "The linearized collision operator in the classical Lattice Boltzmann Method (LBM) for solving the 1D advection-diffusion equation is written as a diagonal operator acting on the respective populations:\n",
    "\n",
    "$\n",
    "A_{i}=\n",
    "\\begin{bmatrix}\n",
    "    w_i\\left(1+\\frac{\\mathbf{c}_iu_0}{c_s^2}\\right) & 0 & 0\\\\ \n",
    "    0 &  \\ddots & 0 \\\\\n",
    "    0 & 0 & w_i\\left(1+\\frac{\\mathbf{c}_iu_{M-1}}{c_s^2}\\right)\n",
    "\\end{bmatrix}.\n",
    "$\n",
    "\n",
    "This operator is non-unitary, meaning it cannot be directly implemented as a quantum operator. To address this, all $A_{i}$ operators are combined into a larger non-unitary operator:\n",
    "\n",
    "$\n",
    "U_{\\text{non\\_unitary}}=\n",
    "\\begin{bmatrix}\n",
    "    A_0 & 0 & 0\\\\ \n",
    "    0 &  A_1 & 0 \\\\\n",
    "    0 & 0 & A_{2}\n",
    "\\end{bmatrix},\n",
    "$\n",
    "\n",
    "where we assume the density is initialized three times in a vector.\n",
    "\n",
    "### Linear Combination of Unitaries (LCU)\n",
    "Using the Linear Combination of Unitaries algorithm, $U_{\\text{non\\_unitary}}$ can be expressed as:\n",
    "\n",
    "$\n",
    "U_{\\text{non\\_unitary}} = \\frac{1}{2}(U_1 + U_2),\n",
    "$\n",
    "\n",
    "where:\n",
    "\n",
    "$\n",
    "U_1 = U_{\\text{non\\_unitary}} + i\\sqrt{I - U_{\\text{non\\_unitary}}^2}, \\quad\n",
    "U_2 = U_{\\text{non\\_unitary}} - i\\sqrt{I - U_{\\text{non\\_unitary}}^2}.\n",
    "$\n",
    "\n",
    "Both $U_1$ and $U_2$ are unitary matrices, making them implementable on quantum hardware, while their sum remains non-unitary.\n",
    "\n",
    "### Embedding into a Unitary Operator\n",
    "Every non-unitary operator can be embedded into a larger unitary operator such that:\n",
    "\n",
    "$\n",
    "U_{\\text{unitary}}=\n",
    "\\begin{bmatrix}\n",
    "    U_{\\text{non\\_unitary}} & * \\\\ \n",
    "    * & *\n",
    "\\end{bmatrix}.\n",
    "$\n",
    "\n",
    "This embedding ensures that the non-unitary evolution occurs within a subspace of the larger unitary operator."
   ]
  },
  {
   "cell_type": "code",
   "execution_count": null,
   "metadata": {},
   "outputs": [],
   "source": [
    "import numpy as np\n",
    "import matplotlib.pyplot as plt\n",
    "from qiskit import QuantumCircuit, QuantumRegister, ClassicalRegister\n",
    "from qiskit.quantum_info import Statevector\n",
    "from qiskit import *\n",
    "from qiskit.circuit.library import DiagonalGate"
   ]
  },
  {
   "cell_type": "markdown",
   "metadata": {},
   "source": [
    "Initialize variables for the quantum circuit and the lattice boltzmann method"
   ]
  },
  {
   "cell_type": "code",
   "execution_count": null,
   "metadata": {},
   "outputs": [],
   "source": [
    "#Define initial condition\n",
    "\n",
    "Number_of_qubits = 5\n",
    "Number_of_distributions = 3\n",
    "Number_of_distribution_qubits = np.ceil(np.log2(Number_of_distributions))\n",
    "\n",
    "\n",
    "Total_number_of_cells = 2**Number_of_qubits\n",
    "\n",
    "mid_index = Total_number_of_cells//2\n",
    "\n",
    "# initial density\n",
    "density = np.ones(Total_number_of_cells)*0.1\n",
    "density[mid_index-3 : mid_index+3] = 0.3\n",
    "\n",
    "# we require the density three times\n",
    "density_vector = np.tile(density, 3)\n",
    "density_vector = np.concatenate((density_vector, np.zeros_like(density)))\n",
    "normalization = np.linalg.norm(density_vector)\n",
    "# normalize density vector\n",
    "density_vector_normalized = density_vector / normalization\n",
    "\n",
    "#macroscopic velocity\n",
    "velocity = np.ones(Total_number_of_cells)*0.1\n",
    "\n",
    "# weights of the distributions\n",
    "weights = [4/6,1/6,1/6]\n",
    "# lattice speed of sound\n",
    "c_s = 1/np.sqrt(3)\n",
    "# microscopic velocities\n",
    "c = [0, 1, -1]"
   ]
  },
  {
   "cell_type": "markdown",
   "metadata": {},
   "source": [
    "Here we compute the classical collision operator which when applied on the density vector computes the collision operator.\n",
    "\n",
    "This is a flattened version of U_{non\\_unitary}."
   ]
  },
  {
   "cell_type": "code",
   "execution_count": null,
   "metadata": {},
   "outputs": [],
   "source": [
    "U_non_unitary = np.zeros((Number_of_distributions, Total_number_of_cells))\n",
    "for ii in range(Number_of_distributions):\n",
    "    U_non_unitary[ii, :] = weights[ii]*(1+c[ii]*velocity/c_s**2)\n",
    "\n",
    "U_non_unitary_flattened = U_non_unitary.flatten()"
   ]
  },
  {
   "cell_type": "markdown",
   "metadata": {},
   "source": [
    "We compute the unitary operators $U_1$ and $U_2$, and then combine them into a larger unitary matrix. To ensure compatibility with the $2^n$ state vector, the combined unitary is padded with entries of $1$. \n",
    "\n",
    "$U_1 = U_{non\\_unitary\\_flattened}+i\\sqrt{I-U_{non\\_unitary\\_flattened}^2}$ and $U_2= U_{non\\_unitary\\_flattened}-i\\sqrt{I-U_{non\\_unitary\\_flattened}^2}$\n",
    "\n",
    "This process increases the dimension of the original operator."
   ]
  },
  {
   "cell_type": "code",
   "execution_count": null,
   "metadata": {},
   "outputs": [],
   "source": [
    "#Rewrite as a sum of unitaries.  quantum_collision_operator = 1/2(Unitary_1 + Unitary_2)\n",
    "\n",
    "#### CODE MISSING HERE\n",
    "#compute U1 and U2\n",
    "Unitary_1 = U_non_unitary_flattened + 1j*np.sqrt(1-U_non_unitary_flattened**2)\n",
    "Unitary_2 = U_non_unitary_flattened - 1j*np.sqrt(1-U_non_unitary_flattened**2)\n",
    "#####\n",
    "\n",
    "unitary_collision_operator = np.concatenate([Unitary_1,np.ones_like(density), Unitary_2,np.ones_like(density)])"
   ]
  },
  {
   "cell_type": "markdown",
   "metadata": {},
   "source": [
    "## Collision Operator Implementation\n",
    "\n",
    "The quantum circuit is initialized with a third register containing one ancillary qubit. This ancillary qubit accounts for the increased dimension and is used exclusively for the execution of the collision operator.\n",
    "\n",
    "### Initial State\n",
    "The state vector is initially:\n",
    "\n",
    "$\n",
    "\\lvert \\Psi \\rangle = \\lvert 0 \\rangle_{\\text{anc}} \\lvert \\psi \\rangle,\n",
    "$\n",
    "\n",
    "where $\\lvert \\psi \\rangle$ combines the spaces of the \\texttt{qx} and \\texttt{qf} registers.\n",
    "\n",
    "### Applying Hadamard Gate\n",
    "A Hadamard gate is applied to the ancillary qubit, evolving the state vector to:\n",
    "\n",
    "$\n",
    "\\lvert \\Psi \\rangle = \\frac{1}{\\sqrt{2}} (\\lvert 0 \\rangle_{\\text{anc}} \\lvert \\psi \\rangle + \\lvert 1 \\rangle_{\\text{anc}} \\lvert \\psi \\rangle).\n",
    "$\n",
    "\n",
    "### Applying Diagonal Gate\n",
    "The collision operator is implemented using a diagonal gate initialized as:\n",
    "\n",
    "$\n",
    "\\texttt{diagonal\\_gate = DiagonalGate(unitary\\_collision\\_operator.tolist())}.\n",
    "$\n",
    "\n",
    "This gate is applied to the entire quantum circuit:\n",
    "\n",
    "$\n",
    "\\texttt{qc.append(diagonal\\_gate, qc.qubits)}.\n",
    "$\n",
    "\n",
    "This evolves the state vector to:\n",
    "\n",
    "$\n",
    "\\lvert \\Psi \\rangle = \\frac{1}{\\sqrt{2}} (U_1 \\lvert 0 \\rangle_{\\text{anc}} \\lvert \\psi \\rangle + U_2 \\lvert 1 \\rangle_{\\text{anc}} \\lvert \\psi \\rangle),\n",
    "$\n",
    "where $U_1$ and $U_2$ are unitary matrices derived from the collision operator.\n",
    "\n",
    "### Final Hadamard Gate\n",
    "Applying another Hadamard gate to the ancillary qubit evolves the state vector to:\n",
    "\n",
    "$\n",
    "\\lvert \\Psi \\rangle = \n",
    "\\frac{1}{2} ((U_1 + U_2) \\lvert 0 \\rangle_{\\text{anc}} \\lvert \\psi \\rangle + (U_2 - U_1) \\lvert 1 \\rangle_{\\text{anc}} \\lvert \\psi \\rangle).\n",
    "$\n",
    "\n",
    "### Non-Unitary Evolution in Subspace\n",
    "The term:\n",
    "\n",
    "$\n",
    "\\frac{1}{2} (U_1 + U_2) \\lvert 0 \\rangle_{\\text{anc}} \\lvert \\psi \\rangle\n",
    "$\n",
    "\n",
    "represents the non-unitary evolution embedded in the subspace of the ancillary qubit when it is in the $\\lvert 0 \\rangle_{\\text{anc}}$ state."
   ]
  },
  {
   "cell_type": "code",
   "execution_count": null,
   "metadata": {},
   "outputs": [],
   "source": [
    "#Define quantum circuit\n",
    "qx = QuantumRegister(Number_of_qubits, 'qx')\n",
    "qf = QuantumRegister(Number_of_distribution_qubits, 'qf')\n",
    "anc = QuantumRegister(1, 'anc')\n",
    "qc = QuantumCircuit(qx, qf, anc)\n",
    "\n",
    "#### CODE MISSING HERE\n",
    "# Initialize diagonal gate\n",
    "diagonal_gate = DiagonalGate(unitary_collision_operator.tolist())\n",
    "####\n",
    "\n",
    "qc.initialize(density_vector_normalized, [qx,qf])\n",
    "\n",
    "#### CODE MISSING HERE\n",
    "# Apply Hadamard gates and ancilla gate to compute collision\n",
    "qc.h(anc)\n",
    "qc.append(diagonal_gate, qc.qubits)\n",
    "qc.h(anc)\n",
    "####\n"
   ]
  },
  {
   "cell_type": "code",
   "execution_count": null,
   "metadata": {},
   "outputs": [],
   "source": [
    "qc.draw(output='mpl')"
   ]
  },
  {
   "cell_type": "code",
   "execution_count": null,
   "metadata": {},
   "outputs": [],
   "source": [
    "Psi_real = np.real(Statevector(qc))*normalization\n",
    "Psi = np.array(Statevector(qc))"
   ]
  },
  {
   "cell_type": "markdown",
   "metadata": {},
   "source": [
    "Compute the classical collision operator.\n",
    "$f_i = \\rho w_i(1+c_iu/c_s^2)$"
   ]
  },
  {
   "cell_type": "code",
   "execution_count": null,
   "metadata": {},
   "outputs": [],
   "source": [
    "relaxed_distribution = density_vector[:Total_number_of_cells*Number_of_distributions]*U_non_unitary_flattened"
   ]
  },
  {
   "cell_type": "markdown",
   "metadata": {},
   "source": [
    "Check, if the quantum results match the classical."
   ]
  },
  {
   "cell_type": "code",
   "execution_count": null,
   "metadata": {},
   "outputs": [],
   "source": [
    "print(np.allclose(Psi_real[:Total_number_of_cells*Number_of_distributions], relaxed_distribution))"
   ]
  },
  {
   "cell_type": "markdown",
   "metadata": {},
   "source": [
    "The density is computed as the sum of all distribution functions:\n",
    "\n",
    "$\n",
    "\\rho = \\sum_i f_i.\n",
    "$\n",
    "\n",
    "Since streaming has not been applied, the density should match the initialized values."
   ]
  },
  {
   "cell_type": "code",
   "execution_count": null,
   "metadata": {},
   "outputs": [],
   "source": [
    "Psi_reshaped = Psi_real[:Total_number_of_cells*Number_of_distributions].reshape((Number_of_distributions, Total_number_of_cells))\n",
    "density_resummed = np.sum(Psi_reshaped, axis=0)\n",
    "print(np.allclose(density_resummed, density))"
   ]
  },
  {
   "cell_type": "markdown",
   "metadata": {},
   "source": [
    "Compute the probabilities of measuring a state of the state vector.\n",
    "Use for this the variable Psi.\n",
    "\n",
    "Note: P=$|\\Psi|^2$"
   ]
  },
  {
   "cell_type": "code",
   "execution_count": null,
   "metadata": {},
   "outputs": [],
   "source": [
    "#### CODE MISSING HERE\n",
    "#compute the probabilities\n",
    "Probabilities = np.abs(Psi)**2\n",
    "####\n",
    "print('Check if |<Psi|Psi>|^2 is equal to 1: ',np.sum(Probabilities))"
   ]
  },
  {
   "cell_type": "markdown",
   "metadata": {},
   "source": [
    "The collision operator is applied only when the ancillary qubit is in the $\\lvert 0 \\rangle$ state. The $\\lvert 1 \\rangle$ state of the ancilla embeds a solution that does not correspond to the collision operator. Therefore, the non-unitary collision operator is implemented probabilistically, meaning it is successful only when a measurement of the ancillary qubit yields the $\\lvert 0 \\rangle$ state.\n",
    "\n",
    "To compute the probabilities of measuring the ancilla in the $\\lvert 0 \\rangle$ state:\n",
    "- Note that all possibilities where the ancilla is in the $\\lvert 0 \\rangle$ state are represented by the first half of the state vector.\n",
    "- Similarly, all possibilities where the ancilla is in the $\\lvert 1 \\rangle$ state are represented by the second half of the state vector."
   ]
  },
  {
   "cell_type": "code",
   "execution_count": null,
   "metadata": {},
   "outputs": [],
   "source": [
    "####CODE MISSING HERE\n",
    "# compute the probabilities of ancilla |0> and |1> states\n",
    "Probabilty_to_compute_0_state = np.sum(Probabilities[:len(Probabilities)//2])\n",
    "Probabilty_to_compute_1_state = np.sum(Probabilities[len(Probabilities)//2:])\n",
    "####\n",
    "\n",
    "print('Probability to compute the |0> state', Probabilty_to_compute_0_state)\n",
    "print('Probability to compute the |1> state', Probabilty_to_compute_1_state)"
   ]
  },
  {
   "cell_type": "markdown",
   "metadata": {},
   "source": [
    "Check your result using the sampling simulator."
   ]
  },
  {
   "cell_type": "code",
   "execution_count": null,
   "metadata": {},
   "outputs": [],
   "source": [
    "from qiskit.primitives import StatevectorSampler\n",
    "# Apply measurement\n",
    "qc.measure_all()\n",
    "sampler = StatevectorSampler()\n",
    "\n",
    "shots = 1000000\n",
    "\n",
    "job = sampler.run([qc], shots=shots)\n",
    "result = job.result()\n",
    "data = result[0].data\n",
    "counts = data.meas.get_counts()"
   ]
  },
  {
   "cell_type": "code",
   "execution_count": null,
   "metadata": {},
   "outputs": [],
   "source": [
    "from qiskit.visualization import plot_histogram\n",
    "plot_histogram(counts)"
   ]
  },
  {
   "cell_type": "code",
   "execution_count": null,
   "metadata": {},
   "outputs": [],
   "source": [
    "probabilities = {state: count / shots for state, count in counts.items()}\n",
    "sorted_states = sorted(probabilities.keys())\n",
    "sorted_probabilities = [probabilities[state] for state in sorted_states]"
   ]
  },
  {
   "cell_type": "code",
   "execution_count": null,
   "metadata": {},
   "outputs": [],
   "source": [
    "Probabilty_to_compute_0_state_sampling = np.sum(sorted_probabilities[:len(sorted_probabilities)//2])\n",
    "Probabilty_to_compute_1_state_sampling = np.sum(sorted_probabilities[len(sorted_probabilities)//2:])\n",
    "\n",
    "print('Probability to compute the |0> state', Probabilty_to_compute_0_state_sampling)\n",
    "print('Probability to compute the |1> state', Probabilty_to_compute_1_state_sampling)"
   ]
  },
  {
   "cell_type": "markdown",
   "metadata": {},
   "source": [
    "Conclusion:\n",
    "\n",
    "- There is no safe way to evolve the simulation in time. Once the ancilla is measured in the $|1\\rangle$, the whole run failed.\n",
    "- Sampling out the result and reinitializing it is extremly costly"
   ]
  }
 ],
 "metadata": {
  "kernelspec": {
   "display_name": "mep_workshop",
   "language": "python",
   "name": "python3"
  },
  "language_info": {
   "codemirror_mode": {
    "name": "ipython",
    "version": 3
   },
   "file_extension": ".py",
   "mimetype": "text/x-python",
   "name": "python",
   "nbconvert_exporter": "python",
   "pygments_lexer": "ipython3",
   "version": "3.13.2"
  }
 },
 "nbformat": 4,
 "nbformat_minor": 2
}
